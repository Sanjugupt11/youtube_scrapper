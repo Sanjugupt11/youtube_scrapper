{
 "cells": [
  {
   "cell_type": "markdown",
   "id": "77933cf8-f488-41c3-ba0d-b180c5693545",
   "metadata": {},
   "source": [
    "### Assignment"
   ]
  },
  {
   "cell_type": "code",
   "execution_count": 5,
   "id": "5bb6ce24-05be-4568-a37d-dbe6722c4f38",
   "metadata": {},
   "outputs": [],
   "source": [
    "from flask import Flask, render_template, request, jsonify\n",
    "from flask_cors import CORS,cross_origin\n",
    "import logging\n",
    "import os\n",
    "import requests\n",
    "import re\n",
    "import pandas as pd\n",
    "\n",
    "\n"
   ]
  },
  {
   "cell_type": "code",
   "execution_count": 4,
   "id": "eaa3a141-bcef-4511-beb9-7cd12d922b85",
   "metadata": {},
   "outputs": [
    {
     "name": "stdout",
     "output_type": "stream",
     "text": [
      "Collecting flask_cors\n",
      "  Downloading Flask_Cors-3.0.10-py2.py3-none-any.whl (14 kB)\n",
      "Requirement already satisfied: Flask>=0.9 in /opt/conda/lib/python3.10/site-packages (from flask_cors) (2.3.2)\n",
      "Requirement already satisfied: Six in /opt/conda/lib/python3.10/site-packages (from flask_cors) (1.16.0)\n",
      "Requirement already satisfied: Werkzeug>=2.3.3 in /opt/conda/lib/python3.10/site-packages (from Flask>=0.9->flask_cors) (2.3.3)\n",
      "Requirement already satisfied: click>=8.1.3 in /opt/conda/lib/python3.10/site-packages (from Flask>=0.9->flask_cors) (8.1.3)\n",
      "Requirement already satisfied: Jinja2>=3.1.2 in /opt/conda/lib/python3.10/site-packages (from Flask>=0.9->flask_cors) (3.1.2)\n",
      "Requirement already satisfied: blinker>=1.6.2 in /opt/conda/lib/python3.10/site-packages (from Flask>=0.9->flask_cors) (1.6.2)\n",
      "Requirement already satisfied: itsdangerous>=2.1.2 in /opt/conda/lib/python3.10/site-packages (from Flask>=0.9->flask_cors) (2.1.2)\n",
      "Requirement already satisfied: MarkupSafe>=2.0 in /opt/conda/lib/python3.10/site-packages (from Jinja2>=3.1.2->Flask>=0.9->flask_cors) (2.1.1)\n",
      "Installing collected packages: flask_cors\n",
      "Successfully installed flask_cors-3.0.10\n",
      "Note: you may need to restart the kernel to use updated packages.\n"
     ]
    }
   ],
   "source": [
    "pip install flask_cors"
   ]
  },
  {
   "cell_type": "code",
   "execution_count": 6,
   "id": "041b168e-7a55-40de-98e3-24f7f68ffeff",
   "metadata": {},
   "outputs": [
    {
     "name": "stdout",
     "output_type": "stream",
     "text": [
      "200\n"
     ]
    }
   ],
   "source": [
    "input_text = 'PW-Foundation'\n",
    "url = f'https://www.youtube.com/@PW-Foundation/videos'\n",
    "\n",
    "headers = {\"User-Agent\": \"Mozilla/5.0 (Windows NT 10.0; Win64; x64) AppleWebKit/537.36 (KHTML, like Gecko) Chrome/58.0.3029.110 Safari/537.36\"}\n",
    "response = requests.get(url, headers=headers)\n",
    "print(response.status_code)\n",
    "response_text = response.text\n"
   ]
  },
  {
   "cell_type": "code",
   "execution_count": 7,
   "id": "9965e5a1-39e3-4b0b-b7da-61e70d73dba3",
   "metadata": {},
   "outputs": [],
   "source": [
    "vid_titles = re.findall('\"title\":{\"runs\":\\[{\"text\":\".*?\"', response_text)"
   ]
  },
  {
   "cell_type": "code",
   "execution_count": 8,
   "id": "d7203412-7694-437a-8fbe-9bf81f251b43",
   "metadata": {},
   "outputs": [
    {
     "data": {
      "text/plain": [
       "['\"title\":{\"runs\":[{\"text\":\"How To Start Class -10th Chemistry || ICSE Board || Complete Plan To Score 95%+ Marks\"',\n",
       " '\"title\":{\"runs\":[{\"text\":\"Complete Plan to Start Class-9th Science || Follow This Master Strategy to score more than 95% ⚡⚡\"',\n",
       " '\"title\":{\"runs\":[{\"text\":\"Best Way To Start Class -9th English 💥 || Master Strategy Plan || Follow this ⚡⚡\"',\n",
       " '\"title\":{\"runs\":[{\"text\":\"PWSAT Is Back Again!! 🔥 || India\\'s Biggest Scholarship Test || Watch This ⚡⚡\"',\n",
       " '\"title\":{\"runs\":[{\"text\":\"Finally The Wait is Over 🔥 || Icse Batch Coming Soon || Must Watch 🔥🔥\"',\n",
       " '\"title\":{\"runs\":[{\"text\":\"Best Strategy To Start Class-9th SST || Don\\'t Miss This Video🛑 || Complete Roadmap\"',\n",
       " '\"title\":{\"runs\":[{\"text\":\"Finally The Wait is Over🔥 || Launching Foundation Channels in 5 Different Languages 🤩\"',\n",
       " '\"title\":{\"runs\":[{\"text\":\"How To Plan For Class-11th || Perfect Strategy 💯 || A Complete Roadmap!!\"',\n",
       " '\"title\":{\"runs\":[{\"text\":\"Strategy to Crack NEET in 1st Attempt 💪💪\"',\n",
       " '\"title\":{\"runs\":[{\"text\":\"How to start class 9th Maths ❓🤔 | Maths Strategy\"',\n",
       " '\"title\":{\"runs\":[{\"text\":\"Ritik Sir ने Class 10th की First Class में ही, बच्चों को कड़वा सच बता दिया 🔴😱 | UDAAN 2024\"',\n",
       " '\"title\":{\"runs\":[{\"text\":\"How to change Mindset from class 10th to 11th ❓ ❓\"',\n",
       " '\"title\":{\"runs\":[{\"text\":\"Bachoo आपके क्या Plan है इस Summer Vacation ❓❓\"',\n",
       " '\"title\":{\"runs\":[{\"text\":\"The Ultimate Class 11th Survival Guide: Tips and Tricks for Success\"',\n",
       " '\"title\":{\"runs\":[{\"text\":\"If not MBBS then What ❓|| Career Options for Biology Students\"',\n",
       " '\"title\":{\"runs\":[{\"text\":\"Why Commerce After 10th, Explore the Best Career Options | Must Watch\"',\n",
       " '\"title\":{\"runs\":[{\"text\":\"Class 10th Ke Baad Konsi Stream Le? || Strategy Wallah || PW Foundation\"',\n",
       " '\"title\":{\"runs\":[{\"text\":\"तो चलिए शुरू करते है AIIMS Jane Ki Tayyari !! Revealing Arjuna NEET Faculties 🙏 Check Description.\"',\n",
       " '\"title\":{\"runs\":[{\"text\":\"Ruman Ashraf - Bihar Board Class 10th TOPPER from PW !! Udaan Batch⚡\"',\n",
       " '\"title\":{\"runs\":[{\"text\":\"Complete Roadmap on How to Start Class 9th 🔥 || Full Year Long Strategy For Students 💯\"',\n",
       " '\"title\":{\"runs\":[{\"text\":\"Class 10th Over 😎 अब Class 11th JEE की तैयारी !! Check Description.\"',\n",
       " '\"title\":{\"runs\":[{\"text\":\"Aarambh Batch 2024 | For CBSE Class 11th Commerce | Biggest Launch🔥\"',\n",
       " '\"title\":{\"runs\":[{\"text\":\"India\\'s NO.1 Batch for Class 10th - UDAAN ⚡ Launching Today !! Check Description.\"',\n",
       " '\"title\":{\"runs\":[{\"text\":\"India\\'s Biggest Scholarship Test for Classes 8th to 12th !! 🔥🔥 || PW SAT 2023 ⚡💥\"',\n",
       " '\"title\":{\"runs\":[{\"text\":\"How to score 95%+ in class 10th? Complete year Powerful Strategy!!\"',\n",
       " '\"title\":{\"runs\":[{\"text\":\"Last 4 Days Left For SST Exam || How To Manage to Score 80/80 in Boards || Class-10th\"',\n",
       " '\"title\":{\"runs\":[{\"text\":\"Benefits of Choosing Commerce After 10th | Commerce क्यों लेना चाहिए? | CBSE | ICSE | State Boards\"',\n",
       " '\"title\":{\"runs\":[{\"text\":\"Complete 𝗖𝗔𝗥𝗕𝗢𝗡 𝗔𝗡𝗗 𝗜𝗧𝗦 𝗖𝗢𝗠𝗣𝗢𝗨𝗡𝗗𝗦 in 90 Minutes | Class 10th Board Exam\"',\n",
       " '\"title\":{\"runs\":[{\"text\":\"Complete 𝗠𝗘𝗧𝗔𝗟𝗦 \\\\u0026 𝗡𝗢𝗡 𝗠𝗘𝗧𝗔𝗟𝗦  in 120 Minutes | Class 10th Board Exam\"',\n",
       " '\"title\":{\"runs\":[{\"text\":\"Complete 𝗔𝗖𝗜𝗗, 𝗕𝗔𝗦𝗘𝗦 𝗔𝗡𝗗 𝗦𝗔𝗟𝗧 in 110 Minutes | Class 10th Board Exam\"',\n",
       " '\"title\":{\"runs\":[{\"text\":\"Keyboard shortcuts\"',\n",
       " '\"title\":{\"runs\":[{\"text\":\"Playback\"',\n",
       " '\"title\":{\"runs\":[{\"text\":\"General\"',\n",
       " '\"title\":{\"runs\":[{\"text\":\"Subtitles and closed captions\"',\n",
       " '\"title\":{\"runs\":[{\"text\":\"Spherical videos\"']"
      ]
     },
     "execution_count": 8,
     "metadata": {},
     "output_type": "execute_result"
    }
   ],
   "source": [
    "vid_titles "
   ]
  },
  {
   "cell_type": "code",
   "execution_count": 15,
   "id": "79d032e6-3b94-4268-af6b-4fa0ccf9ca55",
   "metadata": {},
   "outputs": [
    {
     "data": {
      "text/plain": [
       "['https://i.ytimg.com/vi/sBXHecS1S1w/hqdefault.jpg',\n",
       " 'https://i.ytimg.com/vi/sBXHecS1S1w/hqdefault.jpg',\n",
       " 'https://i.ytimg.com/vi/sBXHecS1S1w/hqdefault.jpg',\n",
       " 'https://i.ytimg.com/vi/sBXHecS1S1w/hqdefault.jpg',\n",
       " 'https://i.ytimg.com/vi/l6ZY90YnMy0/hqdefault.jpg']"
      ]
     },
     "execution_count": 15,
     "metadata": {},
     "output_type": "execute_result"
    }
   ],
   "source": [
    "vid_thumbnails = re.findall(r\"https://i.ytimg.com/vi/[A-Za-z0-9_-]{11}/[A-Za-z0-9_]{9}.jpg\", response_text)[0:5]\n",
    "vid_thumbnails"
   ]
  },
  {
   "cell_type": "code",
   "execution_count": 10,
   "id": "c19cbe66-0ad7-4441-94fa-bbfc7f4289e6",
   "metadata": {},
   "outputs": [
    {
     "data": {
      "text/plain": [
       "['watch?v=sBXHecS1S1w',\n",
       " 'watch?v=l6ZY90YnMy0',\n",
       " 'watch?v=33onjejJLDs',\n",
       " 'watch?v=o3eOj-jhhfI',\n",
       " 'watch?v=ecGcmstmnGA',\n",
       " 'watch?v=08WWij66k8A',\n",
       " 'watch?v=bXpeyKIVioA',\n",
       " 'watch?v=YwxDKs7jNXs',\n",
       " 'watch?v=dVq8dLd5zK4',\n",
       " 'watch?v=9y6ruBLE7z0',\n",
       " 'watch?v=yv4Gi792S8o',\n",
       " 'watch?v=aPrSAvwuhTk',\n",
       " 'watch?v=tigMKfSBJ9E',\n",
       " 'watch?v=2OrYDCb737E',\n",
       " 'watch?v=U1FxvG4GNAY',\n",
       " 'watch?v=t961YvjKH20',\n",
       " 'watch?v=XA03UtMWbIA',\n",
       " 'watch?v=9jfTn4lcLu4',\n",
       " 'watch?v=c_pKfD4UgFg',\n",
       " 'watch?v=RWcwMNVdp9c',\n",
       " 'watch?v=jzclZf2NaFM',\n",
       " 'watch?v=hzwEXoQDNCs',\n",
       " 'watch?v=0s6hAsFGxYE',\n",
       " 'watch?v=YXRyMc_noiE',\n",
       " 'watch?v=PI1obes98Zc',\n",
       " 'watch?v=16fUsD0M1-I',\n",
       " 'watch?v=S0RySN5arvk',\n",
       " 'watch?v=HzBhwxMrt8A',\n",
       " 'watch?v=60_B3haKADw',\n",
       " 'watch?v=46CNHP9wBAs']"
      ]
     },
     "execution_count": 10,
     "metadata": {},
     "output_type": "execute_result"
    }
   ],
   "source": [
    "vid_links = re.findall(r\"watch\\?v=[A-Za-z0-9_-]{11}\", response_text)\n",
    "vid_links"
   ]
  },
  {
   "cell_type": "code",
   "execution_count": 11,
   "id": "7b7a4326-776d-485f-a541-edca2978e69e",
   "metadata": {},
   "outputs": [
    {
     "data": {
      "text/plain": [
       "re.compile(r'[0-9]+(\\.[0-9]+)?[a-zA-Z]*K views', re.UNICODE)"
      ]
     },
     "execution_count": 11,
     "metadata": {},
     "output_type": "execute_result"
    }
   ],
   "source": [
    "pattern3 = re.compile(r\"[0-9]+(\\.[0-9]+)?[a-zA-Z]*K views\")  # view count\n",
    "pattern3"
   ]
  },
  {
   "cell_type": "code",
   "execution_count": 12,
   "id": "013f76cc-3bd2-452a-a216-966e8616d9d5",
   "metadata": {},
   "outputs": [
    {
     "data": {
      "text/plain": [
       "re.compile(r'\\d+ (minutes|hours|hour|days|day|weeks|week|years|year) ago',\n",
       "           re.UNICODE)"
      ]
     },
     "execution_count": 12,
     "metadata": {},
     "output_type": "execute_result"
    }
   ],
   "source": [
    "pattern4 = re.compile(r\"\\d+ (minutes|hours|hour|days|day|weeks|week|years|year) ago\")  # vedio age\n",
    "pattern4"
   ]
  },
  {
   "cell_type": "code",
   "execution_count": 21,
   "id": "cb420799-e2ac-49a7-bf55-97d10957642c",
   "metadata": {},
   "outputs": [],
   "source": [
    "matches1 = pattern3.finditer(response_text)\n",
    "matches2 = pattern4.finditer(response_text)"
   ]
  },
  {
   "cell_type": "code",
   "execution_count": 18,
   "id": "da255cde-089a-4f53-9878-67ea14539815",
   "metadata": {},
   "outputs": [],
   "source": [
    "vid_viewcounts=[]\n",
    "vid_ages=[]\n",
    "count = 0\n",
    "for match1,match2 in zip(matches1,matches2):\n",
    "    vid_ages.append(match2[0])\n",
    "    vid_viewcounts.append(match1[0])"
   ]
  },
  {
   "cell_type": "code",
   "execution_count": 22,
   "id": "1378f99c-894f-45a3-9606-e2243ff96481",
   "metadata": {},
   "outputs": [
    {
     "data": {
      "text/plain": [
       "[]"
      ]
     },
     "execution_count": 22,
     "metadata": {},
     "output_type": "execute_result"
    }
   ],
   "source": [
    "titles = vid_titles[0:10]\n",
    "thumbnails = list(dict.fromkeys(vid_thumbnails))\n",
    "links = vid_links[0:10]\n",
    "viewcounts=vid_viewcounts[0:20:2]\n",
    "ages=vid_ages[0:20:2]\n",
    "\n",
    "details_list=[]\n",
    "\n",
    "for title,thumbnail,link,viewcount,age in zip(titles,thumbnails,links,viewcounts,ages):\n",
    "    details_dict={\n",
    "    \"title\":title.split('\"')[-2], \"thumbnail\": thumbnail, \"link\": \"https://www.youtube.com/\"+link,\n",
    "    \"viewcount\": viewcount, \"age\": age\n",
    "    }\n",
    "    details_list.append(details_dict)\n",
    "\n",
    "\n",
    "\n",
    "details_list"
   ]
  },
  {
   "cell_type": "code",
   "execution_count": 23,
   "id": "7ccc367a-750f-47e0-a091-75445031a564",
   "metadata": {},
   "outputs": [],
   "source": [
    "df = pd.DataFrame(details_list)\n",
    "df.to_csv('YTscrapData.csv', index=False)"
   ]
  },
  {
   "cell_type": "code",
   "execution_count": null,
   "id": "9654d367-435d-4711-bcc4-20a299158c7f",
   "metadata": {},
   "outputs": [],
   "source": []
  }
 ],
 "metadata": {
  "kernelspec": {
   "display_name": "Python 3 (ipykernel)",
   "language": "python",
   "name": "python3"
  },
  "language_info": {
   "codemirror_mode": {
    "name": "ipython",
    "version": 3
   },
   "file_extension": ".py",
   "mimetype": "text/x-python",
   "name": "python",
   "nbconvert_exporter": "python",
   "pygments_lexer": "ipython3",
   "version": "3.10.8"
  },
  "vscode": {
   "interpreter": {
    "hash": "e7370f93d1d0cde622a1f8e1c04877d8463912d04d973331ad4851f04de6915a"
   }
  }
 },
 "nbformat": 4,
 "nbformat_minor": 5
}
